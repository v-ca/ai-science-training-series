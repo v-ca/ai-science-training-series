{
 "cells": [
  {
   "cell_type": "markdown",
   "id": "e440528f-c51e-4202-b2fe-7db333abc6ba",
   "metadata": {},
   "source": [
    "# Homework 00:"
   ]
  },
  {
   "cell_type": "code",
   "execution_count": 1,
   "id": "df043f19-a2c7-497a-8f75-58917b81fe1f",
   "metadata": {},
   "outputs": [
    {
     "name": "stdout",
     "output_type": "stream",
     "text": [
      "/home/rvcaldwell\n",
      "/home/rvcaldwell\n"
     ]
    }
   ],
   "source": [
    "import os, sys\n",
    "\n",
    "print(os.getcwd())\n",
    "print(sys.path[0])"
   ]
  },
  {
   "cell_type": "code",
   "execution_count": 2,
   "id": "8cf165d2-8b75-425e-8018-a04c5c1353f4",
   "metadata": {},
   "outputs": [
    {
     "name": "stdout",
     "output_type": "stream",
     "text": [
      "Hello world!\n"
     ]
    }
   ],
   "source": [
    "print('Hello world!')"
   ]
  },
  {
   "cell_type": "code",
   "execution_count": null,
   "id": "6ef89977-1f12-4b1f-a685-68fa8a499eaa",
   "metadata": {},
   "outputs": [],
   "source": []
  }
 ],
 "metadata": {
  "kernelspec": {
   "display_name": "Python 3 (ipykernel)",
   "language": "python",
   "name": "python3"
  },
  "language_info": {
   "codemirror_mode": {
    "name": "ipython",
    "version": 3
   },
   "file_extension": ".py",
   "mimetype": "text/x-python",
   "name": "python",
   "nbconvert_exporter": "python",
   "pygments_lexer": "ipython3",
   "version": "3.9.15"
  }
 },
 "nbformat": 4,
 "nbformat_minor": 5
}
